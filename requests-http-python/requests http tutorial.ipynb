{
 "cells": [
  {
   "cell_type": "markdown",
   "metadata": {},
   "source": [
    "<h1>PYTHON'S REQUESTS LIBRARY (TUTORIAL)</h1>\n",
    "\n",
    "requests library:\n",
    "- standard for making HTTP requests in Python\n",
    "- abstracts complexities of making requests behind simple API so can focus on teracting w/ services + consuming data in app\n",
    "\n",
    "will learn how to:\n",
    "- **make** requests using common HTTP methods\n",
    "- **customize** requests' headers + data, using query string and message body\n",
    "- **inspect** data from requests + responses\n",
    "- make **authenticated** requests\n",
    "- **configure** requests to help prevent app from backing up or slowing down\n",
    "\n",
    "<h2>getting started with \"requests\"</h2>"
   ]
  },
  {
   "cell_type": "code",
   "execution_count": 1,
   "metadata": {},
   "outputs": [],
   "source": [
    "# install requests library\n",
    "import requests\n",
    "from requests import*"
   ]
  },
  {
   "cell_type": "markdown",
   "metadata": {},
   "source": [
    "<h2>The GET Request</h2>\n",
    "\n",
    "HTTP methods such as GET and POST:\n",
    "- determine which action you're trying to perform when making HTTP requests\n",
    "\n",
    "**GET**: GET method indicates that you're trying to retrieve data from specified resource. To make GET requests, invoke \"requests.get()\""
   ]
  },
  {
   "cell_type": "code",
   "execution_count": 2,
   "metadata": {},
   "outputs": [
    {
     "data": {
      "text/plain": [
       "<Response [200]>"
      ]
     },
     "execution_count": 2,
     "metadata": {},
     "output_type": "execute_result"
    }
   ],
   "source": [
    "# make GET request to github's Root Rest API\n",
    "requests.get('https://api.github.com')"
   ]
  },
  {
   "cell_type": "markdown",
   "metadata": {},
   "source": [
    "<h2>The RESPONSE</h2>\n",
    "- object that inspects results of request"
   ]
  },
  {
   "cell_type": "code",
   "execution_count": 3,
   "metadata": {},
   "outputs": [],
   "source": [
    "# store return value in variable so can get closer look at attributes + behaviours\n",
    "response = requests.get('https://api.github.com')"
   ]
  },
  {
   "cell_type": "markdown",
   "metadata": {},
   "source": [
    "- in this example, captured return value of get() which is an instance of Response and stored in a variable called **response**\n",
    "\n",
    "- can now use <code> response </code> to see lots of info about results of GET request\n",
    "\n",
    "<h3>Status Codes</h3>\n",
    "\n",
    "- first bit of info can gather from **response** is the **status code**\n",
    "- status code informs you of status of request\n",
    "    - 200 OK: request was successful\n",
    "    - 404 NOT FOUND: resource looking for was not found"
   ]
  },
  {
   "cell_type": "code",
   "execution_count": 4,
   "metadata": {},
   "outputs": [
    {
     "data": {
      "text/plain": [
       "200"
      ]
     },
     "execution_count": 4,
     "metadata": {},
     "output_type": "execute_result"
    }
   ],
   "source": [
    "# access .status_code to see status code server has returned\n",
    "response.status_code # 200 => request was successful and server responded w/ data requested"
   ]
  },
  {
   "cell_type": "code",
   "execution_count": 5,
   "metadata": {},
   "outputs": [
    {
     "name": "stdout",
     "output_type": "stream",
     "text": [
      "SUCCESS\n"
     ]
    }
   ],
   "source": [
    "# sometimes want to use status code to make decisions in code\n",
    "if response.status_code == 200:\n",
    "    print('SUCCESS')\n",
    "elif response.status_code == 404:\n",
    "    print('FAILURE')\n",
    "    \n",
    "# if server returns 200 status code, program will print SUCCESS\n",
    "# if server returns 404 status code, program will print FAILURE"
   ]
  },
  {
   "cell_type": "markdown",
   "metadata": {},
   "source": [
    "**requests** goes one step further in simpligying process for you:\n",
    "- if use a **response** instance in conditional expression, it will evaluate to TRUE if status code was b/w 200 and 400 and FALSE otherwise"
   ]
  },
  {
   "cell_type": "code",
   "execution_count": 6,
   "metadata": {},
   "outputs": [
    {
     "name": "stdout",
     "output_type": "stream",
     "text": [
      "SUCCESS\n"
     ]
    }
   ],
   "source": [
    "# simplify last example\n",
    "if response:\n",
    "    print('SUCCESS')\n",
    "else:\n",
    "    print('error has occurred')\n",
    "    \n",
    "# be wary as other status codes in 200-400 range give SUCCESS message b/c other status codes that provide \n",
    "# some workable response"
   ]
  },
  {
   "cell_type": "code",
   "execution_count": 7,
   "metadata": {},
   "outputs": [
    {
     "name": "stdout",
     "output_type": "stream",
     "text": [
      "SUCCESS\n",
      "HTTP error occurred: 404 Client Error: Not Found for url: https://api.github.com/invalid\n"
     ]
    }
   ],
   "source": [
    "from requests.exceptions import HTTPError\n",
    "\n",
    "# don't want to use if statement, instead raise EXCEPTION if request unsuccessful by using\n",
    "# .raise_for_status()\n",
    "\n",
    "for url in ['https://api.github.com', 'https://api.github.com/invalid']:\n",
    "    try:\n",
    "        response = requests.get(url)\n",
    "\n",
    "        # If the response was successful, no Exception will be raised\n",
    "        response.raise_for_status()\n",
    "    except HTTPError as http_err:\n",
    "        print(f'HTTP error occurred: {http_err}')  \n",
    "    except Exception as err:\n",
    "        print(f'Other error occurred: {err}')  \n",
    "    else:\n",
    "        print('SUCCESS')\n",
    "        \n",
    "# if invoke .raise_for_status(), HTTPError will be raised for certain status codes.\n",
    "# if status code indicates successful request, program will proceed w/o Exception raised"
   ]
  },
  {
   "cell_type": "markdown",
   "metadata": {},
   "source": [
    "<h3>CONTENT</h3>\n",
    "\n",
    "- response of GET request often has valuable info, **payload**, in message body\n",
    "- using attributes + methods of **response**, can view payload in variety of diff formats"
   ]
  },
  {
   "cell_type": "code",
   "execution_count": 8,
   "metadata": {},
   "outputs": [
    {
     "data": {
      "text/plain": [
       "b'{\\n  \"current_user_url\": \"https://api.github.com/user\",\\n  \"current_user_authorizations_html_url\": \"https://github.com/settings/connections/applications{/client_id}\",\\n  \"authorizations_url\": \"https://api.github.com/authorizations\",\\n  \"code_search_url\": \"https://api.github.com/search/code?q={query}{&page,per_page,sort,order}\",\\n  \"commit_search_url\": \"https://api.github.com/search/commits?q={query}{&page,per_page,sort,order}\",\\n  \"emails_url\": \"https://api.github.com/user/emails\",\\n  \"emojis_url\": \"https://api.github.com/emojis\",\\n  \"events_url\": \"https://api.github.com/events\",\\n  \"feeds_url\": \"https://api.github.com/feeds\",\\n  \"followers_url\": \"https://api.github.com/user/followers\",\\n  \"following_url\": \"https://api.github.com/user/following{/target}\",\\n  \"gists_url\": \"https://api.github.com/gists{/gist_id}\",\\n  \"hub_url\": \"https://api.github.com/hub\",\\n  \"issue_search_url\": \"https://api.github.com/search/issues?q={query}{&page,per_page,sort,order}\",\\n  \"issues_url\": \"https://api.github.com/issues\",\\n  \"keys_url\": \"https://api.github.com/user/keys\",\\n  \"label_search_url\": \"https://api.github.com/search/labels?q={query}&repository_id={repository_id}{&page,per_page}\",\\n  \"notifications_url\": \"https://api.github.com/notifications\",\\n  \"organization_url\": \"https://api.github.com/orgs/{org}\",\\n  \"organization_repositories_url\": \"https://api.github.com/orgs/{org}/repos{?type,page,per_page,sort}\",\\n  \"organization_teams_url\": \"https://api.github.com/orgs/{org}/teams\",\\n  \"public_gists_url\": \"https://api.github.com/gists/public\",\\n  \"rate_limit_url\": \"https://api.github.com/rate_limit\",\\n  \"repository_url\": \"https://api.github.com/repos/{owner}/{repo}\",\\n  \"repository_search_url\": \"https://api.github.com/search/repositories?q={query}{&page,per_page,sort,order}\",\\n  \"current_user_repositories_url\": \"https://api.github.com/user/repos{?type,page,per_page,sort}\",\\n  \"starred_url\": \"https://api.github.com/user/starred{/owner}{/repo}\",\\n  \"starred_gists_url\": \"https://api.github.com/gists/starred\",\\n  \"user_url\": \"https://api.github.com/users/{user}\",\\n  \"user_organizations_url\": \"https://api.github.com/user/orgs\",\\n  \"user_repositories_url\": \"https://api.github.com/users/{user}/repos{?type,page,per_page,sort}\",\\n  \"user_search_url\": \"https://api.github.com/search/users?q={query}{&page,per_page,sort,order}\"\\n}\\n'"
      ]
     },
     "execution_count": 8,
     "metadata": {},
     "output_type": "execute_result"
    }
   ],
   "source": [
    "# see response's content in bytes, use .content (gives access to raw bytes of response payload)\n",
    "response = requests.get('https://api.github.com')\n",
    "response.content"
   ]
  },
  {
   "cell_type": "code",
   "execution_count": 9,
   "metadata": {},
   "outputs": [
    {
     "data": {
      "text/plain": [
       "'{\\n  \"current_user_url\": \"https://api.github.com/user\",\\n  \"current_user_authorizations_html_url\": \"https://github.com/settings/connections/applications{/client_id}\",\\n  \"authorizations_url\": \"https://api.github.com/authorizations\",\\n  \"code_search_url\": \"https://api.github.com/search/code?q={query}{&page,per_page,sort,order}\",\\n  \"commit_search_url\": \"https://api.github.com/search/commits?q={query}{&page,per_page,sort,order}\",\\n  \"emails_url\": \"https://api.github.com/user/emails\",\\n  \"emojis_url\": \"https://api.github.com/emojis\",\\n  \"events_url\": \"https://api.github.com/events\",\\n  \"feeds_url\": \"https://api.github.com/feeds\",\\n  \"followers_url\": \"https://api.github.com/user/followers\",\\n  \"following_url\": \"https://api.github.com/user/following{/target}\",\\n  \"gists_url\": \"https://api.github.com/gists{/gist_id}\",\\n  \"hub_url\": \"https://api.github.com/hub\",\\n  \"issue_search_url\": \"https://api.github.com/search/issues?q={query}{&page,per_page,sort,order}\",\\n  \"issues_url\": \"https://api.github.com/issues\",\\n  \"keys_url\": \"https://api.github.com/user/keys\",\\n  \"label_search_url\": \"https://api.github.com/search/labels?q={query}&repository_id={repository_id}{&page,per_page}\",\\n  \"notifications_url\": \"https://api.github.com/notifications\",\\n  \"organization_url\": \"https://api.github.com/orgs/{org}\",\\n  \"organization_repositories_url\": \"https://api.github.com/orgs/{org}/repos{?type,page,per_page,sort}\",\\n  \"organization_teams_url\": \"https://api.github.com/orgs/{org}/teams\",\\n  \"public_gists_url\": \"https://api.github.com/gists/public\",\\n  \"rate_limit_url\": \"https://api.github.com/rate_limit\",\\n  \"repository_url\": \"https://api.github.com/repos/{owner}/{repo}\",\\n  \"repository_search_url\": \"https://api.github.com/search/repositories?q={query}{&page,per_page,sort,order}\",\\n  \"current_user_repositories_url\": \"https://api.github.com/user/repos{?type,page,per_page,sort}\",\\n  \"starred_url\": \"https://api.github.com/user/starred{/owner}{/repo}\",\\n  \"starred_gists_url\": \"https://api.github.com/gists/starred\",\\n  \"user_url\": \"https://api.github.com/users/{user}\",\\n  \"user_organizations_url\": \"https://api.github.com/user/orgs\",\\n  \"user_repositories_url\": \"https://api.github.com/users/{user}/repos{?type,page,per_page,sort}\",\\n  \"user_search_url\": \"https://api.github.com/search/users?q={query}{&page,per_page,sort,order}\"\\n}\\n'"
      ]
     },
     "execution_count": 9,
     "metadata": {},
     "output_type": "execute_result"
    }
   ],
   "source": [
    "# convert .content raw bytes to string using character encoding such as UTF-8 by using: .text\n",
    "response.text"
   ]
  },
  {
   "cell_type": "code",
   "execution_count": 10,
   "metadata": {},
   "outputs": [
    {
     "data": {
      "text/plain": [
       "'{\\n  \"current_user_url\": \"https://api.github.com/user\",\\n  \"current_user_authorizations_html_url\": \"https://github.com/settings/connections/applications{/client_id}\",\\n  \"authorizations_url\": \"https://api.github.com/authorizations\",\\n  \"code_search_url\": \"https://api.github.com/search/code?q={query}{&page,per_page,sort,order}\",\\n  \"commit_search_url\": \"https://api.github.com/search/commits?q={query}{&page,per_page,sort,order}\",\\n  \"emails_url\": \"https://api.github.com/user/emails\",\\n  \"emojis_url\": \"https://api.github.com/emojis\",\\n  \"events_url\": \"https://api.github.com/events\",\\n  \"feeds_url\": \"https://api.github.com/feeds\",\\n  \"followers_url\": \"https://api.github.com/user/followers\",\\n  \"following_url\": \"https://api.github.com/user/following{/target}\",\\n  \"gists_url\": \"https://api.github.com/gists{/gist_id}\",\\n  \"hub_url\": \"https://api.github.com/hub\",\\n  \"issue_search_url\": \"https://api.github.com/search/issues?q={query}{&page,per_page,sort,order}\",\\n  \"issues_url\": \"https://api.github.com/issues\",\\n  \"keys_url\": \"https://api.github.com/user/keys\",\\n  \"label_search_url\": \"https://api.github.com/search/labels?q={query}&repository_id={repository_id}{&page,per_page}\",\\n  \"notifications_url\": \"https://api.github.com/notifications\",\\n  \"organization_url\": \"https://api.github.com/orgs/{org}\",\\n  \"organization_repositories_url\": \"https://api.github.com/orgs/{org}/repos{?type,page,per_page,sort}\",\\n  \"organization_teams_url\": \"https://api.github.com/orgs/{org}/teams\",\\n  \"public_gists_url\": \"https://api.github.com/gists/public\",\\n  \"rate_limit_url\": \"https://api.github.com/rate_limit\",\\n  \"repository_url\": \"https://api.github.com/repos/{owner}/{repo}\",\\n  \"repository_search_url\": \"https://api.github.com/search/repositories?q={query}{&page,per_page,sort,order}\",\\n  \"current_user_repositories_url\": \"https://api.github.com/user/repos{?type,page,per_page,sort}\",\\n  \"starred_url\": \"https://api.github.com/user/starred{/owner}{/repo}\",\\n  \"starred_gists_url\": \"https://api.github.com/gists/starred\",\\n  \"user_url\": \"https://api.github.com/users/{user}\",\\n  \"user_organizations_url\": \"https://api.github.com/user/orgs\",\\n  \"user_repositories_url\": \"https://api.github.com/users/{user}/repos{?type,page,per_page,sort}\",\\n  \"user_search_url\": \"https://api.github.com/search/users?q={query}{&page,per_page,sort,order}\"\\n}\\n'"
      ]
     },
     "execution_count": 10,
     "metadata": {},
     "output_type": "execute_result"
    }
   ],
   "source": [
    "# b/c decoding BYTES to STR requires encoding scheme, requests will try to guess encoding based on\n",
    "# response's headers (if you do not specify one)\n",
    "\n",
    "# can provide EXPLICIT ENCODING by setting .encoding b4 .text:\n",
    "response.encoding = 'utf-8' # optional: requests infers this internally\n",
    "response.text"
   ]
  },
  {
   "cell_type": "code",
   "execution_count": 11,
   "metadata": {},
   "outputs": [
    {
     "data": {
      "text/plain": [
       "{'current_user_url': 'https://api.github.com/user',\n",
       " 'current_user_authorizations_html_url': 'https://github.com/settings/connections/applications{/client_id}',\n",
       " 'authorizations_url': 'https://api.github.com/authorizations',\n",
       " 'code_search_url': 'https://api.github.com/search/code?q={query}{&page,per_page,sort,order}',\n",
       " 'commit_search_url': 'https://api.github.com/search/commits?q={query}{&page,per_page,sort,order}',\n",
       " 'emails_url': 'https://api.github.com/user/emails',\n",
       " 'emojis_url': 'https://api.github.com/emojis',\n",
       " 'events_url': 'https://api.github.com/events',\n",
       " 'feeds_url': 'https://api.github.com/feeds',\n",
       " 'followers_url': 'https://api.github.com/user/followers',\n",
       " 'following_url': 'https://api.github.com/user/following{/target}',\n",
       " 'gists_url': 'https://api.github.com/gists{/gist_id}',\n",
       " 'hub_url': 'https://api.github.com/hub',\n",
       " 'issue_search_url': 'https://api.github.com/search/issues?q={query}{&page,per_page,sort,order}',\n",
       " 'issues_url': 'https://api.github.com/issues',\n",
       " 'keys_url': 'https://api.github.com/user/keys',\n",
       " 'label_search_url': 'https://api.github.com/search/labels?q={query}&repository_id={repository_id}{&page,per_page}',\n",
       " 'notifications_url': 'https://api.github.com/notifications',\n",
       " 'organization_url': 'https://api.github.com/orgs/{org}',\n",
       " 'organization_repositories_url': 'https://api.github.com/orgs/{org}/repos{?type,page,per_page,sort}',\n",
       " 'organization_teams_url': 'https://api.github.com/orgs/{org}/teams',\n",
       " 'public_gists_url': 'https://api.github.com/gists/public',\n",
       " 'rate_limit_url': 'https://api.github.com/rate_limit',\n",
       " 'repository_url': 'https://api.github.com/repos/{owner}/{repo}',\n",
       " 'repository_search_url': 'https://api.github.com/search/repositories?q={query}{&page,per_page,sort,order}',\n",
       " 'current_user_repositories_url': 'https://api.github.com/user/repos{?type,page,per_page,sort}',\n",
       " 'starred_url': 'https://api.github.com/user/starred{/owner}{/repo}',\n",
       " 'starred_gists_url': 'https://api.github.com/gists/starred',\n",
       " 'user_url': 'https://api.github.com/users/{user}',\n",
       " 'user_organizations_url': 'https://api.github.com/user/orgs',\n",
       " 'user_repositories_url': 'https://api.github.com/users/{user}/repos{?type,page,per_page,sort}',\n",
       " 'user_search_url': 'https://api.github.com/search/users?q={query}{&page,per_page,sort,order}'}"
      ]
     },
     "execution_count": 11,
     "metadata": {},
     "output_type": "execute_result"
    }
   ],
   "source": [
    "# look at response, see that it is serialized JSON content. to get dictionary, could take \n",
    "# STR retrieved from .text and deserialize it using json.loads(), simpler way to do this is\n",
    "# use .json()\n",
    "\n",
    "response.json() # TYPE of return value of .json() is dictionary, can access values in object by key"
   ]
  },
  {
   "cell_type": "markdown",
   "metadata": {},
   "source": [
    "<h3>HEADERS</h3>\n",
    "\n",
    "- response headers can give useful info (content type of response payload, time limit on how long to cache response, etc.)\n",
    "- to view these headers, access .headers"
   ]
  },
  {
   "cell_type": "code",
   "execution_count": 12,
   "metadata": {},
   "outputs": [
    {
     "data": {
      "text/plain": [
       "{'server': 'GitHub.com', 'date': 'Tue, 21 Apr 2020 01:24:37 GMT', 'content-type': 'application/json; charset=utf-8', 'status': '200 OK', 'cache-control': 'public, max-age=60, s-maxage=60', 'vary': 'Accept, Accept-Encoding, Accept, X-Requested-With', 'etag': 'W/\"c6bac8870a7f94b08b440c3d5873c9ca\"', 'x-github-media-type': 'github.v3; format=json', 'access-control-expose-headers': 'ETag, Link, Location, Retry-After, X-GitHub-OTP, X-RateLimit-Limit, X-RateLimit-Remaining, X-RateLimit-Reset, X-OAuth-Scopes, X-Accepted-OAuth-Scopes, X-Poll-Interval, X-GitHub-Media-Type, Deprecation, Sunset', 'access-control-allow-origin': '*', 'strict-transport-security': 'max-age=31536000; includeSubdomains; preload', 'x-frame-options': 'deny', 'x-content-type-options': 'nosniff', 'x-xss-protection': '1; mode=block', 'referrer-policy': 'origin-when-cross-origin, strict-origin-when-cross-origin', 'content-security-policy': \"default-src 'none'\", 'content-encoding': 'gzip', 'X-Ratelimit-Limit': '60', 'X-Ratelimit-Remaining': '44', 'X-Ratelimit-Reset': '1587433394', 'Accept-Ranges': 'bytes', 'Content-Length': '512', 'X-GitHub-Request-Id': 'CB9A:1D42:E4BDCE:20CAB7E:5E9E4B5F'}"
      ]
     },
     "execution_count": 12,
     "metadata": {},
     "output_type": "execute_result"
    }
   ],
   "source": [
    "# access .headers:\n",
    "response.headers"
   ]
  },
  {
   "cell_type": "code",
   "execution_count": 13,
   "metadata": {},
   "outputs": [
    {
     "data": {
      "text/plain": [
       "'application/json; charset=utf-8'"
      ]
     },
     "execution_count": 13,
     "metadata": {},
     "output_type": "execute_result"
    }
   ],
   "source": [
    "# .headers return dictionary-like object, can access header values by key\n",
    "\n",
    "# to see content type of response payload, access content-type:\n",
    "response.headers['Content-Type']"
   ]
  },
  {
   "cell_type": "code",
   "execution_count": 14,
   "metadata": {},
   "outputs": [
    {
     "data": {
      "text/plain": [
       "'application/json; charset=utf-8'"
      ]
     },
     "execution_count": 14,
     "metadata": {},
     "output_type": "execute_result"
    }
   ],
   "source": [
    "# smt special about this dictionary-like headers object, HTTP spec defines headers to be case-insensitive\n",
    "# this means we are able to access these headers w/o capitalization:\n",
    "response.headers['content-type']"
   ]
  },
  {
   "cell_type": "markdown",
   "metadata": {},
   "source": [
    "<h2>QUERY STRING PARAMETERS</h2>\n",
    "\n",
    "- one common way to cutomize a **GET** request is to pass values thru **query string params** in URL\n",
    "- to do this using get(), pass data to PARAMS"
   ]
  },
  {
   "cell_type": "code",
   "execution_count": 15,
   "metadata": {},
   "outputs": [
    {
     "name": "stdout",
     "output_type": "stream",
     "text": [
      "Repository name: grequests\n",
      "Repository description: Requests + Gevent = <3\n"
     ]
    }
   ],
   "source": [
    "# use github's search API to look for requests librar\n",
    "response = requests.get('https://api.github.com/search/repositories', params = {\n",
    "    'q': 'requests+language:python' # this line passes dictionary to PARAMS parameter of .get(), able to modify results that come back from Search API\n",
    "},)\n",
    "\n",
    "# inspect some attributes of the `requests` repo\n",
    "json_response = response.json()\n",
    "repo = json_response['items'][0]\n",
    "print(f'Repository name: {repo[\"name\"]}')  # Python 3.6+\n",
    "print(f'Repository description: {repo[\"description\"]}')  # Python 3.6+"
   ]
  },
  {
   "cell_type": "code",
   "execution_count": 16,
   "metadata": {},
   "outputs": [
    {
     "data": {
      "text/plain": [
       "<Response [200]>"
      ]
     },
     "execution_count": 16,
     "metadata": {},
     "output_type": "execute_result"
    }
   ],
   "source": [
    "# can pass params to get() in form of dictionary (as we have just done) or as list of TUPLES\n",
    "requests.get(\n",
    "    'https://api.github.com/search/repositories',\n",
    "    params = [('q', 'requests+language:python')],)"
   ]
  },
  {
   "cell_type": "code",
   "execution_count": 17,
   "metadata": {},
   "outputs": [
    {
     "data": {
      "text/plain": [
       "<Response [200]>"
      ]
     },
     "execution_count": 17,
     "metadata": {},
     "output_type": "execute_result"
    }
   ],
   "source": [
    "# can pass values as bytes\n",
    "requests.get(\n",
    "    'https://api.github.com/search/repositories',\n",
    "    params = b'q=requests+language:python',)"
   ]
  },
  {
   "cell_type": "markdown",
   "metadata": {},
   "source": [
    "query strings are useful for parameterizing **GET** requests, can also customize requests by adding/modifying headers you send"
   ]
  },
  {
   "cell_type": "markdown",
   "metadata": {},
   "source": [
    "<h2>Request Headers</h2>\n",
    "\n",
    "- to customize headers, pass a dict of HTTP headers to get() using HEADERS param\n",
    "- e.g. can change previous search request to highlight matching search terms in results by specifying text-match media type in ACCEPT header:"
   ]
  },
  {
   "cell_type": "code",
   "execution_count": 18,
   "metadata": {},
   "outputs": [
    {
     "name": "stdout",
     "output_type": "stream",
     "text": [
      "Text matches: [{'object_url': 'https://api.github.com/repositories/4290214', 'object_type': 'Repository', 'property': 'description', 'fragment': 'Requests + Gevent = <3', 'matches': [{'text': 'Requests', 'indices': [0, 8]}]}]\n"
     ]
    }
   ],
   "source": [
    "# change previous search request to highlight matching search terms in results, specify text-match media type in ACCEPT header\n",
    "response = requests.get(\n",
    "    'https://api.github.com/search/repositories',\n",
    "    params = {'q': 'requests+language:python'},\n",
    "    headers = {'Accept': 'application/vnd.github.v3.text-match+json'},\n",
    ")\n",
    "\n",
    "# view new `text-match` array which provides info about search term w/i results\n",
    "json_response = response.json()\n",
    "repo = json_response['items'][0]\n",
    "print(f'Text matches: {repo[\"text_matches\"]}')"
   ]
  },
  {
   "cell_type": "markdown",
   "metadata": {},
   "source": [
    "- `Accept` header tells server what content types your app can handle\n",
    "- in this case, since expecting matching search terms to be highlighted, we are using header value: application/vnd.github.v3.text-match+json, which is a propietary github `Accept` header where the content is a special JSON format"
   ]
  },
  {
   "cell_type": "markdown",
   "metadata": {},
   "source": [
    "<h2>Other HTTP methods</h2>\n",
    "\n",
    "- aside from `GET`, other HTTP methods include: `POST, PUT, DELETE, HEAD, PATCH`\n",
    "- `OPTIONS.requests` provides a method (w/ similar signature to `get()`) for each of these HTTP methods"
   ]
  },
  {
   "cell_type": "code",
   "execution_count": 19,
   "metadata": {},
   "outputs": [
    {
     "data": {
      "text/plain": [
       "<Response [200]>"
      ]
     },
     "execution_count": 19,
     "metadata": {},
     "output_type": "execute_result"
    }
   ],
   "source": [
    "requests.post('https://httpbin.org/post', data={'key':'value'})\n",
    "requests.put('https://httpbin.org/put', data={'key':'value'})\n",
    "requests.delete('https://httpbin.org/delete')\n",
    "requests.head('https://httpbin.org/get')\n",
    "requests.patch('https://httpbin.org/patch', data={'key':'value'})\n",
    "requests.options('https://httpbin.org/get')\n",
    "\n",
    "# each func makes a request to `httpbin` service using corresponding HTTP method"
   ]
  },
  {
   "cell_type": "code",
   "execution_count": 20,
   "metadata": {},
   "outputs": [
    {
     "data": {
      "text/plain": [
       "'application/json'"
      ]
     },
     "execution_count": 20,
     "metadata": {},
     "output_type": "execute_result"
    }
   ],
   "source": [
    "# inspect their responses for each method\n",
    "response = requests.head('https://httpbin.org/get')\n",
    "response.headers['Content-Type']\n"
   ]
  },
  {
   "cell_type": "code",
   "execution_count": 21,
   "metadata": {},
   "outputs": [
    {
     "data": {
      "text/plain": [
       "{}"
      ]
     },
     "execution_count": 21,
     "metadata": {},
     "output_type": "execute_result"
    }
   ],
   "source": [
    "response = requests.delete('https://httpbin.org/delete')\n",
    "json_response = response.json()\n",
    "json_response['args']"
   ]
  },
  {
   "cell_type": "markdown",
   "metadata": {},
   "source": [
    "<h2>The Message Body</h2>\n",
    "\n",
    "- according to HTTP specification, `POST, PUT, and PATCH` requests pass their data thru message body rather than thru params in query string\n",
    "- using `requests`, we'll pass payload to corresponding func's `data` parameter\n",
    "\n",
    "- `data` takes a dict, list of tupes, bytes, or file-like object\n",
    "- we'll want to adapt data you send in body of your request to specific needs of service interacting with"
   ]
  },
  {
   "cell_type": "code",
   "execution_count": 22,
   "metadata": {},
   "outputs": [
    {
     "data": {
      "text/plain": [
       "<Response [200]>"
      ]
     },
     "execution_count": 22,
     "metadata": {},
     "output_type": "execute_result"
    }
   ],
   "source": [
    "# e.g. can send form data as a DICT if request's content type is `application/x-www-form-urlencoded`\n",
    "requests.post('https://httpbin.org/post', data={'key':'value'})"
   ]
  },
  {
   "cell_type": "code",
   "execution_count": 23,
   "metadata": {},
   "outputs": [
    {
     "data": {
      "text/plain": [
       "<Response [200]>"
      ]
     },
     "execution_count": 23,
     "metadata": {},
     "output_type": "execute_result"
    }
   ],
   "source": [
    "# send same data as list of tuples\n",
    "requests.post('https://httpbin.org/post', data=[('key', 'value')])"
   ]
  },
  {
   "cell_type": "markdown",
   "metadata": {},
   "source": [
    "- if need to send JSON data, can use `json` param\n",
    "- when you pass JSON data via `json`, `requests` will serialize data and add correct `Content-Type` header for you"
   ]
  },
  {
   "cell_type": "code",
   "execution_count": 24,
   "metadata": {},
   "outputs": [
    {
     "data": {
      "text/plain": [
       "'{\"key\": \"value\"}'"
      ]
     },
     "execution_count": 24,
     "metadata": {},
     "output_type": "execute_result"
    }
   ],
   "source": [
    "# httpbin.org: great resource by Kenneth Reitz\n",
    "\n",
    "# use to inspect basic POST request\n",
    "response = requests.post('https://httpbin.org/post', json={'key':'value'})\n",
    "json_response = response.json()\n",
    "json_response['data']"
   ]
  },
  {
   "cell_type": "code",
   "execution_count": 25,
   "metadata": {},
   "outputs": [
    {
     "data": {
      "text/plain": [
       "'application/json'"
      ]
     },
     "execution_count": 25,
     "metadata": {},
     "output_type": "execute_result"
    }
   ],
   "source": [
    "json_response['headers']['Content-Type']"
   ]
  },
  {
   "cell_type": "markdown",
   "metadata": {},
   "source": [
    "<h2>Inspecting your Request</h2>\n",
    "\n",
    "- when making request, `requests` library prepares request b4 sending it to destination server\n",
    "- request preparation: validating headers, serializing JSON content"
   ]
  },
  {
   "cell_type": "code",
   "execution_count": 26,
   "metadata": {},
   "outputs": [
    {
     "data": {
      "text/plain": [
       "'application/json'"
      ]
     },
     "execution_count": 26,
     "metadata": {},
     "output_type": "execute_result"
    }
   ],
   "source": [
    "# view `PreparedRequest` by accessing .request:\n",
    "response = requests.post('https://httpbin.org/post', json={'key':'value'})\n",
    "response.request.headers['Content-Type']"
   ]
  },
  {
   "cell_type": "code",
   "execution_count": 27,
   "metadata": {},
   "outputs": [
    {
     "data": {
      "text/plain": [
       "'https://httpbin.org/post'"
      ]
     },
     "execution_count": 27,
     "metadata": {},
     "output_type": "execute_result"
    }
   ],
   "source": [
    "response.request.url"
   ]
  },
  {
   "cell_type": "code",
   "execution_count": 28,
   "metadata": {},
   "outputs": [
    {
     "data": {
      "text/plain": [
       "b'{\"key\": \"value\"}'"
      ]
     },
     "execution_count": 28,
     "metadata": {},
     "output_type": "execute_result"
    }
   ],
   "source": [
    "response.request.body"
   ]
  },
  {
   "cell_type": "markdown",
   "metadata": {},
   "source": [
    "- inspecting `PreparedRequest` gives access to info about request such as: payload, URL, headers, authentication, etc.\n",
    "\n",
    "- made lots of diff kinds of requests: but they are all **unathenticated** requests to public APIs\n",
    "- many services may want you to authenticate in some way\n",
    "\n",
    "<h2>Authentication</h2>\n",
    "\n",
    "- authentication helps a service understand who you are\n",
    "- typically, provide your credentials to server by passing data thru `Authorization` header or a custom header defined by service\n",
    "- all request funcs you've seen to this pt provide a param called `auth`, which allows us to pass credentials\n",
    "\n",
    "example of API that requires authentication is github's Authenticated User API:\n",
    "- endpoint provides info about authenticated user's profile\n",
    "- to make request to authenticated user API, can pass github user and password in tuple to get():"
   ]
  },
  {
   "cell_type": "code",
   "execution_count": 29,
   "metadata": {},
   "outputs": [
    {
     "name": "stdout",
     "output_type": "stream",
     "text": [
      "········\n"
     ]
    },
    {
     "data": {
      "text/plain": [
       "<Response [403]>"
      ]
     },
     "execution_count": 29,
     "metadata": {},
     "output_type": "execute_result"
    }
   ],
   "source": [
    "# make request to authenticated user API, pass user and password in tuple\n",
    "from getpass import getpass\n",
    "requests.get('https://api.github.com/user', auth=('username', getpass()))\n",
    "# request succeeded if credentials passed in to `auth` are valid"
   ]
  },
  {
   "cell_type": "code",
   "execution_count": 30,
   "metadata": {},
   "outputs": [
    {
     "data": {
      "text/plain": [
       "<Response [401]>"
      ]
     },
     "execution_count": 30,
     "metadata": {},
     "output_type": "execute_result"
    }
   ],
   "source": [
    "# if make this request w/ no credentials, status code will be 401 Unauthorized\n",
    "requests.get('https://api.github.com/user')"
   ]
  },
  {
   "cell_type": "markdown",
   "metadata": {},
   "source": [
    "- when pass user and password in tuple to `auth` param, `requests` is applying credentials using HTTP's \"basic access authentication scheme' under the hood\n",
    "- could make same request by passing explicit Basic authentication credentials using HTTPBasicAuth:"
   ]
  },
  {
   "cell_type": "code",
   "execution_count": 31,
   "metadata": {},
   "outputs": [
    {
     "name": "stdout",
     "output_type": "stream",
     "text": [
      "········\n"
     ]
    },
    {
     "data": {
      "text/plain": [
       "<Response [403]>"
      ]
     },
     "execution_count": 31,
     "metadata": {},
     "output_type": "execute_result"
    }
   ],
   "source": [
    "# pass same request (user and password) using explicit Basic authenticatino credentials, HTTPBasicAuth:\n",
    "from requests.auth import HTTPBasicAuth\n",
    "from getpass import getpass\n",
    "requests.get(\n",
    "    'https://api.github.com/user',\n",
    "    auth = HTTPBasicAuth('username', getpass()))"
   ]
  },
  {
   "cell_type": "markdown",
   "metadata": {},
   "source": [
    "- don't need to be so explicit for **Basic authentication**\n",
    "- may want to authenticate using other method: `requests` offers other methods of authentication outside of box such as: `HTTPDigestAuth and HTTPProxyAuth`\n",
    "- can even supply own authentication mechanism"
   ]
  },
  {
   "cell_type": "code",
   "execution_count": 32,
   "metadata": {},
   "outputs": [],
   "source": [
    "# first create subclass of AuthBase, then implement _call_()"
   ]
  },
  {
   "cell_type": "code",
   "execution_count": 33,
   "metadata": {},
   "outputs": [
    {
     "data": {
      "text/plain": [
       "<Response [200]>"
      ]
     },
     "execution_count": 33,
     "metadata": {},
     "output_type": "execute_result"
    }
   ],
   "source": [
    "import requests\n",
    "from requests.auth import AuthBase\n",
    "\n",
    "class TokenAuth(AuthBase): #custom TokenAuth mechanism receives a token, the includes that token\n",
    "                            # in X-TokenAuth header of request\n",
    "    \"\"\"Implements a custom authentication scheme.\"\"\"\n",
    "    \n",
    "    \n",
    "    def __init__(self, token):\n",
    "        self.token = token\n",
    "\n",
    "    def __call__(self, r):\n",
    "        \"\"\"Attach an API token to a custom auth header.\"\"\"\n",
    "        r.headers['X-TokenAuth'] = f'{self.token}'  # Python 3.6+\n",
    "        return r\n",
    "\n",
    "\n",
    "requests.get('https://httpbin.org/get', auth=TokenAuth('12345abcde-token'))"
   ]
  },
  {
   "cell_type": "markdown",
   "metadata": {},
   "source": [
    "- always use tried-and-true auth scheme like **Basic or OAuth** (unless need custom mechanism for some reason)\n",
    "- security...? lets look at SSL certificates using `requests`"
   ]
  },
  {
   "cell_type": "markdown",
   "metadata": {},
   "source": [
    "<h2>SSL Certificate Verification</h2>\n",
    "\n",
    "- security is important whenever trying to send or receive sensitive data\n",
    "- communicate w/ secure sites over HTTP by establishing encrypter connectino using SSL\n",
    "- target server's SSL Certificate is CRITICAL\n",
    "- `requests` does this by default, however, might be some cases where you want to change behaviour"
   ]
  },
  {
   "cell_type": "code",
   "execution_count": 34,
   "metadata": {},
   "outputs": [
    {
     "name": "stderr",
     "output_type": "stream",
     "text": [
      "C:\\Users\\liuco\\Anaconda3\\lib\\site-packages\\urllib3\\connectionpool.py:847: InsecureRequestWarning: Unverified HTTPS request is being made. Adding certificate verification is strongly advised. See: https://urllib3.readthedocs.io/en/latest/advanced-usage.html#ssl-warnings\n",
      "  InsecureRequestWarning)\n"
     ]
    },
    {
     "data": {
      "text/plain": [
       "<Response [200]>"
      ]
     },
     "execution_count": 34,
     "metadata": {},
     "output_type": "execute_result"
    }
   ],
   "source": [
    "# if want to disable SSL Ceritifcate verification, pass False to VERIFY param of request func\n",
    "requests.get('https://api.github.com', verify = False)\n",
    "\n",
    "# will get warning from `requests` to help keep data safe"
   ]
  },
  {
   "cell_type": "markdown",
   "metadata": {},
   "source": [
    "- note: `requests` uses package called `certifi` to provide Certificate Authorities. This lets `requests` know which authorities are trustworthy, update `certifi` FREQUENTLY\n",
    "\n",
    "<h2>Performance</h2>\n",
    "\n",
    "- when using `requests` (especially in production application environment, important to consider performance implications\n",
    "- features can keep your app running smoothly (timeout control, session, retry limits)\n",
    "\n",
    "<h3>Timeouts</h3>\n",
    "\n",
    "- when make inline request to external service, system needs to wait for response b4 moving on\n",
    "- if app takes too long for response, service could back up, UX could suffer, background jobs could hang\n",
    "- `requests` waits indefinitely on response by default, we should specify timeout duration to prevent bad things from happening\n",
    "- to set request's timeout, use `timeout` param\n",
    "- `timeout` can be integer or float representing # of seconds to wait on response b4 timing out"
   ]
  },
  {
   "cell_type": "code",
   "execution_count": 35,
   "metadata": {},
   "outputs": [
    {
     "data": {
      "text/plain": [
       "<Response [200]>"
      ]
     },
     "execution_count": 35,
     "metadata": {},
     "output_type": "execute_result"
    }
   ],
   "source": [
    "# set timeout duration to 1 second\n",
    "requests.get('https://api.github.com', timeout = 1)"
   ]
  },
  {
   "cell_type": "code",
   "execution_count": 36,
   "metadata": {},
   "outputs": [
    {
     "data": {
      "text/plain": [
       "<Response [200]>"
      ]
     },
     "execution_count": 36,
     "metadata": {},
     "output_type": "execute_result"
    }
   ],
   "source": [
    "# request will timeout after 3.05 seconds\n",
    "requests.get('https://api.github.com', timeout = 3.05)"
   ]
  },
  {
   "cell_type": "markdown",
   "metadata": {},
   "source": [
    "- can also pass a tuple to `timeout` w/ first element being a **connect timeout** (the time it allows for client to establish connection to server), second element is a **read timeout** (time it will wait on response once client has established a connection)"
   ]
  },
  {
   "cell_type": "code",
   "execution_count": 37,
   "metadata": {},
   "outputs": [
    {
     "data": {
      "text/plain": [
       "<Response [200]>"
      ]
     },
     "execution_count": 37,
     "metadata": {},
     "output_type": "execute_result"
    }
   ],
   "source": [
    "# if request establishes connection w/i 2 seconds and receives data w/i 5 sections of being established\n",
    "# response will be returned as it was before, if request times out: raise a Timeout exception\n",
    "requests.get('https://api.github.com', timeout = (2, 5))"
   ]
  },
  {
   "cell_type": "code",
   "execution_count": 38,
   "metadata": {},
   "outputs": [
    {
     "name": "stdout",
     "output_type": "stream",
     "text": [
      "request did not time out\n"
     ]
    }
   ],
   "source": [
    "# catch Timeout exception + respond accordingly\n",
    "import requests\n",
    "from requests.exceptions import Timeout\n",
    "\n",
    "try:\n",
    "    response = requests.get('https://api.github.com', timeout = 1)\n",
    "except Timeout:\n",
    "    print('request timed out')\n",
    "else:\n",
    "    print('request did not time out')"
   ]
  },
  {
   "cell_type": "markdown",
   "metadata": {},
   "source": [
    "<h3>The Session Object</h3>\n",
    "\n",
    "- been dealing w/ high level `requests` such as `get() and post()`\n",
    "- these funcs are **abstractions** of what's going on when making requests\n",
    "- they hide **implementations** of how connections are managed so don't have to worry\n",
    "\n",
    "- underneath abstractions is `Session` class:\n",
    "    - if need to fine-tune control over how requests are being made or improve performance of requests, may need to use `Session` instance directly\n",
    "- Sessions used to persist params across requests"
   ]
  },
  {
   "cell_type": "code",
   "execution_count": 39,
   "metadata": {},
   "outputs": [
    {
     "name": "stdout",
     "output_type": "stream",
     "text": [
      "········\n",
      "{'Server': 'GitHub.com', 'Date': 'Tue, 21 Apr 2020 01:25:09 GMT', 'Content-Type': 'application/json; charset=utf-8', 'Transfer-Encoding': 'chunked', 'Status': '403 Forbidden', 'X-GitHub-Media-Type': 'github.v3; format=json', 'X-RateLimit-Limit': '60', 'X-RateLimit-Remaining': '52', 'X-RateLimit-Reset': '1587433315', 'Access-Control-Expose-Headers': 'ETag, Link, Location, Retry-After, X-GitHub-OTP, X-RateLimit-Limit, X-RateLimit-Remaining, X-RateLimit-Reset, X-OAuth-Scopes, X-Accepted-OAuth-Scopes, X-Poll-Interval, X-GitHub-Media-Type, Deprecation, Sunset', 'Access-Control-Allow-Origin': '*', 'Strict-Transport-Security': 'max-age=31536000; includeSubdomains; preload', 'X-Frame-Options': 'deny', 'X-Content-Type-Options': 'nosniff', 'X-XSS-Protection': '1; mode=block', 'Referrer-Policy': 'origin-when-cross-origin, strict-origin-when-cross-origin', 'Content-Security-Policy': \"default-src 'none'\", 'Vary': 'Accept-Encoding, Accept, X-Requested-With', 'Content-Encoding': 'gzip', 'X-GitHub-Request-Id': 'CBC4:3074:757703:11EFC28:5E9E4B74'}\n",
      "<bound method Response.json of <Response [403]>>\n"
     ]
    }
   ],
   "source": [
    "# use same authentication across multiple requests, use session:\n",
    "import requests\n",
    "from getpass import getpass\n",
    "\n",
    "# by using context manager, can ensure resources used by session will be released after use\n",
    "with requests.Session() as session:\n",
    "    session.auth = ('username', getpass())\n",
    "    \n",
    "    # instead of requests.get(), use session.get()\n",
    "    response = session.get('https://api.github.com/user')\n",
    "    \n",
    "# can inspect response just like you did before\n",
    "print(response.headers)\n",
    "print(response.json)"
   ]
  },
  {
   "cell_type": "markdown",
   "metadata": {},
   "source": [
    "- each time make request w/ `session`, once it has been initialized w/ authentication credentials, credentials will be persisted\n",
    "\n",
    "- primary performance optimization of sessions comes in the form of **persistent connections**\n",
    "    - when app makes connection to server using `Session`, keeps connection around in connection pool\n",
    "    - when app wants to connec tot same server again, will reuse connection from pool rather than establishing new one\n",
    "    \n",
    "<h3>Max Retries</h3>\n",
    "\n",
    "- when request fails, may want app to retry same request\n",
    "- `requests` do not do this by default\n",
    "- to apply this functionality, implement custom **TransportAdapter**\n",
    "    - TransportAdapter defines set of configs per service you're interacting with\n",
    "    - e.g. want all requests to `http://api.github.com` to retry 3 times b4 raising `ConnectionError`\n",
    "    - would want to build a TransportAdapter, set its max_retries param and mount to existing `Session`:"
   ]
  },
  {
   "cell_type": "code",
   "execution_count": 40,
   "metadata": {},
   "outputs": [],
   "source": [
    "import requests\n",
    "from requests.adapters import HTTPAdapter\n",
    "from requests.exceptions import ConnectionError\n",
    "\n",
    "github_adapter = HTTPAdapter(max_retries = 3)\n",
    "\n",
    "session = requests.Session()\n",
    "\n",
    "# use github_adapter for all requests to endpoints that start w/ this URL\n",
    "session.mount('https://api.github.com', github_adapter) # mount HTTPAdapter, github_adapter to session\n",
    "                                                        # session will adhere its config for each request to api.github.com\n",
    "\n",
    "try:\n",
    "    session.get('https://api.github.com')\n",
    "except ConnectionError as ce:\n",
    "    print(ce)"
   ]
  },
  {
   "cell_type": "markdown",
   "metadata": {},
   "source": [
    "- Timeouts, Transport Adapters, and sessions help keep code efficient + app resilient"
   ]
  }
 ],
 "metadata": {
  "kernelspec": {
   "display_name": "Python 3",
   "language": "python",
   "name": "python3"
  },
  "language_info": {
   "codemirror_mode": {
    "name": "ipython",
    "version": 3
   },
   "file_extension": ".py",
   "mimetype": "text/x-python",
   "name": "python",
   "nbconvert_exporter": "python",
   "pygments_lexer": "ipython3",
   "version": "3.7.3"
  }
 },
 "nbformat": 4,
 "nbformat_minor": 2
}
